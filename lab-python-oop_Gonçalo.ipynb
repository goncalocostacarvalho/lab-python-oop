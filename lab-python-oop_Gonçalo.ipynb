{
 "cells": [
  {
   "cell_type": "markdown",
   "id": "25d7736c-ba17-4aff-b6bb-66eba20fbf4e",
   "metadata": {},
   "source": [
    "# Lab | Object Oriented Programming"
   ]
  },
  {
   "cell_type": "markdown",
   "id": "6f8e446f-16b4-4e21-92e7-9d3d1eb551b6",
   "metadata": {},
   "source": [
    "Objective: Practice how to work with OOP using classes, objects, and inheritance to create robust, maintainable, and scalable code."
   ]
  },
  {
   "cell_type": "markdown",
   "id": "20c3e882-9625-471e-afb4-48a4f40c5d1b",
   "metadata": {
    "tags": []
   },
   "source": [
    "## Challenge 1: Bank Account"
   ]
  },
  {
   "cell_type": "markdown",
   "id": "fe982bf8-9610-4de3-aa93-256db5a05903",
   "metadata": {},
   "source": [
    "Create a BankAccount class with the following attributes and methods:\n",
    "\n",
    "Attributes:\n",
    "\n",
    "- account_number (a unique identifier for the bank account)\n",
    "- balance (the current balance of the account. By default, is 0)\n",
    "\n",
    "Methods:\n",
    "\n",
    "- deposit(amount) - adds the specified amount to the account balance\n",
    "- withdraw(amount) - subtracts the specified amount from the account balance\n",
    "- get_balance() - returns the current balance of the account\n",
    "- get_account_number() - returns the account number of the account\n",
    "\n",
    "Instructions:\n",
    "\n",
    "- Create a BankAccount class with the above attributes and methods.\n",
    "- Test the class by creating a few instances of BankAccount and making deposits and withdrawals.\n",
    "- Ensure that the account_number attribute is unique for each instance of BankAccount.\n",
    "\n",
    "*Hint: create a class attribute account_count. The account_count class attribute is used to keep track of the total number of bank accounts that have been created using the BankAccount class. Every time a new BankAccount object is created, the account_count attribute is incremented by one. This can be useful for various purposes, such as generating unique account numbers or monitoring the growth of a bank's customer base.*"
   ]
  },
  {
   "cell_type": "code",
   "execution_count": null,
   "id": "55de076f",
   "metadata": {},
   "outputs": [],
   "source": [
    "import math"
   ]
  },
  {
   "cell_type": "code",
   "execution_count": null,
   "id": "21625526-3fae-4c55-bab5-f91940070681",
   "metadata": {},
   "outputs": [],
   "source": [
    "# your code goes here\n",
    "class BankAccount():\n",
    "    def __init__(self, account_number, balance):\n",
    "        self.account_number=account_number\n",
    "        self.balance=balance\n",
    "    def deposit(self,amount):\n",
    "        self.amount=amount\n",
    "        self.balance+=self.amount\n",
    "    def withdraw(self,amount):\n",
    "        self.amount=amount\n",
    "        self.balance-=self.amount\n",
    "    def get_balance(self):\n",
    "        print(f\"Current balance is: {self.balance} \")\n",
    "    def get_account_number(self):\n",
    "        print(f\"Your account number is: {self.account_number} \")"
   ]
  },
  {
   "cell_type": "code",
   "execution_count": null,
   "id": "2cec2db2",
   "metadata": {},
   "outputs": [],
   "source": [
    "account1=BankAccount(111,300)"
   ]
  },
  {
   "cell_type": "code",
   "execution_count": null,
   "id": "1ec30a91",
   "metadata": {},
   "outputs": [],
   "source": [
    "account1.deposit(30)"
   ]
  },
  {
   "cell_type": "code",
   "execution_count": null,
   "id": "409cd790",
   "metadata": {},
   "outputs": [],
   "source": [
    "account1.get_balance()"
   ]
  },
  {
   "cell_type": "code",
   "execution_count": null,
   "id": "9c0557fc",
   "metadata": {},
   "outputs": [],
   "source": [
    "class BankAccount2():\n",
    "    account_count=0\n",
    "    def __init__(self, balance):\n",
    "        self.balance=balance\n",
    "        BankAccount2.account_count+=1\n",
    "    def deposit(self,amount):\n",
    "        self.balance+=amount\n",
    "        self.updated_balance=self.balance\n",
    "    def withdraw(self,amount):\n",
    "        self.amount=amount\n",
    "        self.updated_balance=self.balance\n",
    "        self.updated_balance-=self.amount\n",
    "    def get_balance(self):\n",
    "        if self.updated_balance<0:\n",
    "            print(f\"Insufficient balance. You only have {self.balance} \")\n",
    "        else:\n",
    "            print(f\"{self.updated_balance}\")\n",
    "    def get_account_number(self):\n",
    "        print(f\" {self.account_count} \")"
   ]
  },
  {
   "cell_type": "code",
   "execution_count": 5,
   "id": "3038842a",
   "metadata": {},
   "outputs": [],
   "source": [
    "class BankAccount3():\n",
    "    account_count=0\n",
    "    def __init__(self, balance):\n",
    "        self.balance=balance\n",
    "        BankAccount3.account_count+=1\n",
    "    def deposit(self,amount):\n",
    "        self.balance+=amount\n",
    "    def withdraw(self,amount):\n",
    "        if amount <= self.balance:\n",
    "            self.balance-=amount\n",
    "        else:\n",
    "            print(f\"Insufficient funds. You only have {self.balance} \")\n",
    "    def get_balance(self):\n",
    "        return self.balance\n",
    "    def get_account_number(self):\n",
    "        return BankAccount3.account_count"
   ]
  },
  {
   "cell_type": "code",
   "execution_count": null,
   "id": "ee789466-d4cf-4dd8-b742-6863d42c3e5c",
   "metadata": {},
   "outputs": [],
   "source": [
    "# Testing the BankAccount class\n",
    "# Creating two instances of the BankAccount class with initial balances of 1000 and 500\n",
    "account1 = BankAccount3(1000)\n",
    "account2 = BankAccount3(500)\n",
    "\n",
    "print(\"Account 1 balance:\", account1.get_balance()) # This should print 1000\n",
    "print(\"Account 1 number:\", account1.get_account_number()) # This should print 1\n",
    "\n",
    "print(\"Account 2 balance:\", account2.get_balance()) #This should print 500\n",
    "print(\"Account 2 number:\", account2.get_account_number()) #This should print 2\n",
    "\n",
    "account1.deposit(500) # We depoist 500 in the first account\n",
    "account1.withdraw(200) # We withdraw 200 in the first account\n",
    "print(\"Account 1 balance after transactions:\", account1.get_balance()) # This should print 1300\n",
    "\n",
    "account2.withdraw(600) # We withdraw 600 in the 2nd account \n",
    "print(\"Account 2 balance after transactions:\", account2.get_balance())# This should print insufficient balance, and still 500 in funds"
   ]
  },
  {
   "cell_type": "code",
   "execution_count": null,
   "id": "c6a98909",
   "metadata": {},
   "outputs": [],
   "source": [
    "account1 = BankAccount3(1000)\n",
    "print(\"Account 1 balance:\", account1.get_balance())\n",
    "print(\"Account 1 number:\", account1.get_account_number())\n",
    "account1.deposit(500)\n",
    "account1.withdraw(200)\n",
    "print(\"Account 1 balance after transactions:\", account1.get_balance())"
   ]
  },
  {
   "cell_type": "code",
   "execution_count": null,
   "id": "9371e470",
   "metadata": {},
   "outputs": [],
   "source": [
    "account2 = BankAccount3(500)\n",
    "print(\"Account 2 number:\", account2.get_account_number())\n",
    "account2.withdraw(600)\n",
    "print(\"Account 2 balance after transactions:\", account2.get_balance())"
   ]
  },
  {
   "cell_type": "markdown",
   "id": "929305ed-67cb-4094-8af2-4fa9b751832a",
   "metadata": {},
   "source": [
    "## Challenge 2: Savings Account\n",
    "\n",
    "Create a SavingsAccount class that inherits from the BankAccount class. The SavingsAccount class should have the following additional attributes and methods:\n",
    "\n",
    "Attributes:\n",
    "\n",
    "- interest_rate (the annual interest rate for the savings account. By default - if no value is provided - sets it to 0.01)\n",
    "\n",
    "Methods:\n",
    "\n",
    "- add_interest() - adds the interest earned to the account balance\n",
    "- get_interest_rate() - returns the interest rate for the account\n",
    "\n",
    "Instructions:\n",
    "\n",
    "- Create a SavingsAccount class that inherits from the BankAccount class and has the above attributes and methods.\n",
    "- Test the class by creating a few instances of SavingsAccount and making deposits and withdrawals, as well as adding interest."
   ]
  },
  {
   "cell_type": "code",
   "execution_count": 54,
   "id": "4f8848b5-05d3-4259-9e24-914537926778",
   "metadata": {},
   "outputs": [],
   "source": [
    "# your code goes here\n",
    "class SavingsAccount(BankAccount3):\n",
    "    def __init__(self, balance, interest_rate=0.01):\n",
    "        super().__init__(balance)\n",
    "        self.interest_rate=interest_rate\n",
    "    def add_interest(self):\n",
    "        interest_amount=self.balance*self.interest_rate\n",
    "        self.deposit(interest_amount)\n",
    "    def get_interest_rate(self):\n",
    "        return self.interest_rate"
   ]
  },
  {
   "cell_type": "markdown",
   "id": "d2c84bdb-e7d1-491d-9b0e-194288702c02",
   "metadata": {},
   "source": [
    "Example of testing the SavingsAccount\n",
    "\n",
    "- Create a SavingsAccount object with a balance of $100 and interest rate of 2%\n",
    "\n",
    "- Deposit $50 into the savings account\n",
    "\n",
    "- Withdraw $25 from the savings account\n",
    "\n",
    "- Add interest to the savings account (use the default 0.01)\n",
    "\n",
    "- Print the current balance and interest rate of the savings account\n",
    "\n",
    "Expected output:\n",
    "    \n",
    "    Current balance: 127.5\n",
    "    \n",
    "    Interest rate: 0.02"
   ]
  },
  {
   "cell_type": "code",
   "execution_count": 62,
   "id": "bccc7f6d-d58c-4909-9314-aaf4afc1cd30",
   "metadata": {},
   "outputs": [],
   "source": [
    "# your code goes here\n",
    "save_account=SavingsAccount(100,0.02)"
   ]
  },
  {
   "cell_type": "code",
   "execution_count": 63,
   "id": "2d3fd6f1",
   "metadata": {},
   "outputs": [],
   "source": [
    "save_account.deposit(50)"
   ]
  },
  {
   "cell_type": "code",
   "execution_count": 65,
   "id": "52bcb5d9",
   "metadata": {},
   "outputs": [],
   "source": [
    "save_account.withdraw(25)"
   ]
  },
  {
   "cell_type": "code",
   "execution_count": 66,
   "id": "55ad45a8",
   "metadata": {},
   "outputs": [],
   "source": [
    "save_account.add_interest()"
   ]
  },
  {
   "cell_type": "code",
   "execution_count": 67,
   "id": "ea1e8bd1",
   "metadata": {},
   "outputs": [
    {
     "data": {
      "text/plain": [
       "0.02"
      ]
     },
     "execution_count": 67,
     "metadata": {},
     "output_type": "execute_result"
    }
   ],
   "source": [
    "save_account.get_interest_rate()"
   ]
  },
  {
   "cell_type": "code",
   "execution_count": 68,
   "id": "e43d3364",
   "metadata": {},
   "outputs": [
    {
     "data": {
      "text/plain": [
       "127.5"
      ]
     },
     "execution_count": 68,
     "metadata": {},
     "output_type": "execute_result"
    }
   ],
   "source": [
    "save_account.get_balance()"
   ]
  },
  {
   "cell_type": "markdown",
   "id": "a5455a88-a8d1-47a6-86b0-7c70647b4f31",
   "metadata": {},
   "source": [
    "### Challenge 3: Checking Account\n",
    "\n",
    "Create a CheckingAccount class that inherits from the BankAccount class. The CheckingAccount class should have the following additional attributes and methods:\n",
    "\n",
    "Attributes:\n",
    "\n",
    "- transaction_fee (the fee charged per transaction. By default is 1$)\n",
    "- transaction_count (the number of transactions made in the current month)\n",
    "\n",
    "Methods:\n",
    "\n",
    "- deduct_fees() - deducts transaction fees from the account balance based on the number of transactions made in the current month and the transaction fee per transaction. The method calculates the total fees by multiplying the transaction count with the transaction fee, and deducts the fees from the account balance if it's sufficient. If the balance is insufficient, it prints an error message. Otherwise, it prints how much it's been deducted. After deducting the fees, the method resets the transaction count to 0.\n",
    "- reset_transactions() - resets the transaction count to 0\n",
    "- get_transaction_count() - returns the current transaction count for the account\n",
    "\n",
    "Instructions:\n",
    "\n",
    "- Create a CheckingAccount class that inherits from the BankAccount class and has the above attributes and methods.\n",
    "- Test the class by creating a few instances of CheckingAccount and making deposits, withdrawals, and transactions to deduct fees.\n",
    "\n",
    "Note: To ensure that the transaction count is updated every time a deposit or withdrawal is made, we need to overwrite the deposit and withdraw methods inherited from the BankAccount class. "
   ]
  },
  {
   "cell_type": "code",
   "execution_count": 85,
   "id": "ba3ed686",
   "metadata": {},
   "outputs": [],
   "source": [
    "class BankAccount3():\n",
    "    account_count=0\n",
    "    def __init__(self, balance):\n",
    "        self.balance=balance\n",
    "        BankAccount3.account_count+=1\n",
    "        self.transaction_count=0\n",
    "    def deposit(self,amount):\n",
    "        self.balance+=amount\n",
    "        self.transaction_count+=1\n",
    "    def withdraw(self,amount):\n",
    "        self.transaction_count+=1\n",
    "        if amount <= self.balance:\n",
    "            self.balance-=amount\n",
    "        else:\n",
    "            print(f\"Insufficient funds. You only have {self.balance} \")\n",
    "    def get_balance(self):\n",
    "        return self.balance\n",
    "    def get_account_number(self):\n",
    "        return BankAccount3.account_count"
   ]
  },
  {
   "cell_type": "code",
   "execution_count": 98,
   "id": "3c883c6e-3cb8-4043-92d3-12409668a28e",
   "metadata": {},
   "outputs": [],
   "source": [
    "# your code goes here\n",
    "class CheckingAccount(BankAccount3):\n",
    "    def __init__(self, balance, transaction_fee=1):\n",
    "        super().__init__(balance)\n",
    "        self.transaction_fee=transaction_fee\n",
    "    def deduct_fees(self):\n",
    "        total_fees=self.transaction_count*self.transaction_fee\n",
    "        current_transaction=self.transaction_count\n",
    "        self.balance-=total_fees\n",
    "        self.transaction_count=0\n",
    "    def reset_transaction(self):\n",
    "        self.transaction_count=0\n",
    "    def get_transaction_count():\n",
    "        return current_transaction"
   ]
  },
  {
   "cell_type": "markdown",
   "id": "8217ec46-3eae-4a7c-9c7c-d4a87aac7e6d",
   "metadata": {},
   "source": [
    "Example of testing CheckingAccount:\n",
    "\n",
    "    - Create a new checking account with a balance of 500 dollars and a transaction fee of 2 dollars\n",
    "    - Deposit 100 dollars into the account \n",
    "    - Withdraw 50 dollars from the account \n",
    "    - Deduct the transaction fees from the account\n",
    "    - Get the current balance and transaction count\n",
    "    - Deposit 200 dollars into the account\n",
    "    - Withdraw 75 dollars from the account\n",
    "    - Deduct the transaction fees from the account\n",
    "    - Get the current balance and transaction count again\n",
    "    \n",
    "\n",
    "Expected output:\n",
    "    \n",
    "    Transaction fees of 4$ have been deducted from your account balance.\n",
    "    \n",
    "    Current balance: 546\n",
    "    \n",
    "    Transaction count: 0\n",
    "    \n",
    "    Transaction fees of 4$ have been deducted from your account balance.\n",
    "    \n",
    "    Current balance: 667\n",
    "    \n",
    "    Transaction count: 0\n",
    "\n",
    "Note: *the print \"Transaction fees of 4$ have been deducted from your account balance\" is done in the method deduct_fees*"
   ]
  },
  {
   "cell_type": "code",
   "execution_count": 99,
   "id": "faa5b148-c11b-4be0-b810-de8a7da81451",
   "metadata": {},
   "outputs": [],
   "source": [
    "# your code goes here\n",
    "account3=CheckingAccount(500,2)"
   ]
  },
  {
   "cell_type": "code",
   "execution_count": 100,
   "id": "5058c755",
   "metadata": {},
   "outputs": [],
   "source": [
    "account3.deposit(100)"
   ]
  },
  {
   "cell_type": "code",
   "execution_count": 101,
   "id": "3b1e24c3",
   "metadata": {},
   "outputs": [],
   "source": [
    "account3.withdraw(50)"
   ]
  },
  {
   "cell_type": "code",
   "execution_count": 102,
   "id": "407b2298",
   "metadata": {},
   "outputs": [],
   "source": [
    "account3.deduct_fees()"
   ]
  },
  {
   "cell_type": "code",
   "execution_count": 103,
   "id": "c7937517",
   "metadata": {},
   "outputs": [
    {
     "data": {
      "text/plain": [
       "546"
      ]
     },
     "execution_count": 103,
     "metadata": {},
     "output_type": "execute_result"
    }
   ],
   "source": [
    "account3.get_balance()"
   ]
  },
  {
   "cell_type": "code",
   "execution_count": 104,
   "id": "6ec3107f",
   "metadata": {},
   "outputs": [
    {
     "data": {
      "text/plain": [
       "0"
      ]
     },
     "execution_count": 104,
     "metadata": {},
     "output_type": "execute_result"
    }
   ],
   "source": [
    "account3.transaction_count"
   ]
  },
  {
   "cell_type": "code",
   "execution_count": 105,
   "id": "97e26ae6",
   "metadata": {},
   "outputs": [],
   "source": [
    "account3.deposit(200)"
   ]
  },
  {
   "cell_type": "code",
   "execution_count": 106,
   "id": "342afc40",
   "metadata": {},
   "outputs": [],
   "source": [
    "account3.withdraw(75)"
   ]
  },
  {
   "cell_type": "code",
   "execution_count": 107,
   "id": "1120e4ce",
   "metadata": {},
   "outputs": [],
   "source": [
    "account3.deduct_fees()"
   ]
  },
  {
   "cell_type": "code",
   "execution_count": 108,
   "id": "21d482cd",
   "metadata": {},
   "outputs": [
    {
     "data": {
      "text/plain": [
       "667"
      ]
     },
     "execution_count": 108,
     "metadata": {},
     "output_type": "execute_result"
    }
   ],
   "source": [
    "account3.get_balance()"
   ]
  },
  {
   "cell_type": "code",
   "execution_count": 109,
   "id": "605829a5",
   "metadata": {},
   "outputs": [
    {
     "data": {
      "text/plain": [
       "0"
      ]
     },
     "execution_count": 109,
     "metadata": {},
     "output_type": "execute_result"
    }
   ],
   "source": [
    "account3.transaction_count"
   ]
  }
 ],
 "metadata": {
  "kernelspec": {
   "display_name": "Python 3 (ipykernel)",
   "language": "python",
   "name": "python3"
  },
  "language_info": {
   "codemirror_mode": {
    "name": "ipython",
    "version": 3
   },
   "file_extension": ".py",
   "mimetype": "text/x-python",
   "name": "python",
   "nbconvert_exporter": "python",
   "pygments_lexer": "ipython3",
   "version": "3.11.5"
  }
 },
 "nbformat": 4,
 "nbformat_minor": 5
}
